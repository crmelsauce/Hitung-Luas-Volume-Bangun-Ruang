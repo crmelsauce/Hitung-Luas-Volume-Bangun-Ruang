{
  "nbformat": 4,
  "nbformat_minor": 0,
  "metadata": {
    "colab": {
      "name": "Programming MM SG",
      "provenance": []
    },
    "kernelspec": {
      "name": "python3",
      "display_name": "Python 3"
    }
  },
  "cells": [
    {
      "cell_type": "markdown",
      "metadata": {
        "id": "zauuU5Nhi-Di"
      },
      "source": [
        "##Hitung Luas dan Volume Balok"
      ]
    },
    {
      "cell_type": "code",
      "metadata": {
        "id": "oT-W0v0hjU3y"
      },
      "source": [
        "def luas_balok(p,l,t):\r\n",
        "  return 2 * ( (p*l) + (p*t) + (l*t) )"
      ],
      "execution_count": null,
      "outputs": []
    },
    {
      "cell_type": "code",
      "metadata": {
        "id": "X65IwLDkktCo"
      },
      "source": [
        "def volume_balok(p,l,t):\r\n",
        "  return ( p * l * t)"
      ],
      "execution_count": null,
      "outputs": []
    },
    {
      "cell_type": "code",
      "metadata": {
        "id": "7vh-F30no5Le"
      },
      "source": [
        "def luas_tabung(r,t):\r\n",
        "  return 2 * 3.14 * r * (r+t)"
      ],
      "execution_count": null,
      "outputs": []
    },
    {
      "cell_type": "code",
      "metadata": {
        "id": "ccpHWpwNo76K"
      },
      "source": [
        "def volume_tabung(r,t):\r\n",
        "  return 3.14 * r * r * t"
      ],
      "execution_count": null,
      "outputs": []
    },
    {
      "cell_type": "code",
      "metadata": {
        "id": "HjZDNbiqo-c1"
      },
      "source": [
        "def luas_kerucut(r,s):\r\n",
        "  return 3.14 * r * ( r + s )"
      ],
      "execution_count": null,
      "outputs": []
    },
    {
      "cell_type": "code",
      "metadata": {
        "id": "zamBg0kJpCCc"
      },
      "source": [
        "def volume_kerucut(r,t):\r\n",
        "  return 0.33 * 3.14 * r * r * t"
      ],
      "execution_count": null,
      "outputs": []
    },
    {
      "cell_type": "code",
      "metadata": {
        "id": "mmfCyRk6EknI",
        "colab": {
          "base_uri": "https://localhost:8080/"
        },
        "outputId": "ba4a640b-54f7-4f63-b4b3-c7659edf236c"
      },
      "source": [
        "#Luas Balok\r\n",
        "print(\"Pilih Bangun Ruang : \")\r\n",
        "print(\"\\n 1. Balok\")\r\n",
        "print(\"\\n 2. Tabung\")\r\n",
        "print(\"\\n 3. Kerucut\")\r\n",
        "number = input(\"\\nInput : \")\r\n",
        "if (number == '1'):\r\n",
        "   p = float(input(\"Masukkan panjang balok : \"))\r\n",
        "   l = float(input(\"Masukkan lebar balok : \"))\r\n",
        "   t = float(input(\"Masukkan tinggi balok : \"))\r\n",
        "   print(\"\\nluas : \",luas_balok(p,l,t),\"\\nvolume : \",volume_balok(p,l,t))\r\n",
        "elif (number == '2'):\r\n",
        "   r = float(input(\"Masukkan jari-jari tabung : \"))\r\n",
        "   t = float(input(\"Masukkan tinggi tabung : \"))\r\n",
        "   print(\"\\nluas : \",luas_tabung(r,t),\"\\nvolume : \",volume_tabung(r,t))\r\n",
        "elif (number == '3'):\r\n",
        "   r = float(input(\"Masukkan jari-jari kerucut: \"))\r\n",
        "   t = float(input(\"Masukkan tinggi kerucut : \"))\r\n",
        "   s = float(input(\"Masukkan garis pelukis kerucut : \"))\r\n",
        "   print(\"\\nluas : \",luas_kerucut(r,s),\"\\nvolume : \",volume_kerucut(r,t))    \r\n",
        "else:\r\n",
        "   print(\"\\nMaaf Pilihan Tidak Tersedia\")"
      ],
      "execution_count": null,
      "outputs": [
        {
          "output_type": "stream",
          "text": [
            "Pilih Bangun Ruang : \n",
            "\n",
            " 1. Balok\n",
            "\n",
            " 2. Tabung\n",
            "\n",
            " 3. Kerucut\n",
            "\n",
            "Input : 4\n",
            "\n",
            "Maaf Pilihan Tidak Tersedia\n"
          ],
          "name": "stdout"
        }
      ]
    },
    {
      "cell_type": "markdown",
      "metadata": {
        "id": "EF9vHyGSi49V"
      },
      "source": [
        ""
      ]
    }
  ]
}